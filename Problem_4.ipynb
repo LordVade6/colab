{
  "cells": [
    {
      "cell_type": "markdown",
      "metadata": {
        "id": "view-in-github",
        "colab_type": "text"
      },
      "source": [
        "<a href=\"https://colab.research.google.com/github/LordVade6/colab/blob/master/Problem_4.ipynb\" target=\"_parent\"><img src=\"https://colab.research.google.com/assets/colab-badge.svg\" alt=\"Open In Colab\"/></a>"
      ]
    },
    {
      "cell_type": "code",
      "execution_count": null,
      "metadata": {
        "id": "0Bs6hxV100bl"
      },
      "outputs": [],
      "source": [
        "import numpy as np"
      ]
    },
    {
      "cell_type": "code",
      "execution_count": null,
      "metadata": {
        "colab": {
          "base_uri": "https://localhost:8080/"
        },
        "id": "WldrHb7w10oZ",
        "outputId": "589ed27f-f619-4a9c-c9b2-f5e9f582b7d0"
      },
      "outputs": [
        {
          "output_type": "stream",
          "name": "stdout",
          "text": [
            "the probability of Albus winning is 0.282511\n",
            "the probability of Bellatrix winning is 0.235292\n"
          ]
        }
      ],
      "source": [
        "n=1000000\n",
        "A=0\n",
        "B=0\n",
        "\n",
        "for k in range(n):\n",
        "  r=2\n",
        "  for j in range(r):\n",
        "    r=np.random.rand()\n",
        "    if r<1/6:\n",
        "      A+=1\n",
        "      break \n",
        "    z=np.random.rand()\n",
        "    if z<1/6:\n",
        "      B+=1\n",
        "      break \n",
        "\n",
        "print(\"the probability of Albus winning is\",A/n)\n",
        "print(\"the probability of Bellatrix winning is\",B/n)"
      ]
    }
  ],
  "metadata": {
    "colab": {
      "provenance": [],
      "authorship_tag": "ABX9TyMfCkmbmWHvuoqj174VzI6j",
      "include_colab_link": true
    },
    "kernelspec": {
      "display_name": "Python 3",
      "name": "python3"
    },
    "language_info": {
      "name": "python"
    }
  },
  "nbformat": 4,
  "nbformat_minor": 0
}