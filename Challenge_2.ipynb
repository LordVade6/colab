{
  "nbformat": 4,
  "nbformat_minor": 0,
  "metadata": {
    "colab": {
      "provenance": [],
      "authorship_tag": "ABX9TyM7ldtY9nzbkauLTuM/p12x",
      "include_colab_link": true
    },
    "kernelspec": {
      "name": "python3",
      "display_name": "Python 3"
    },
    "language_info": {
      "name": "python"
    }
  },
  "cells": [
    {
      "cell_type": "markdown",
      "metadata": {
        "id": "view-in-github",
        "colab_type": "text"
      },
      "source": [
        "<a href=\"https://colab.research.google.com/github/LordVade6/colab/blob/master/Challenge_2.ipynb\" target=\"_parent\"><img src=\"https://colab.research.google.com/assets/colab-badge.svg\" alt=\"Open In Colab\"/></a>"
      ]
    },
    {
      "cell_type": "code",
      "source": [
        "from google.colab import drive\n",
        "drive.mount('/content/drive')"
      ],
      "metadata": {
        "colab": {
          "base_uri": "https://localhost:8080/"
        },
        "id": "XtfHmxiRQloG",
        "outputId": "eb92c699-fff8-4799-fcfc-57a255775e5e"
      },
      "execution_count": null,
      "outputs": [
        {
          "output_type": "stream",
          "name": "stdout",
          "text": [
            "Drive already mounted at /content/drive; to attempt to forcibly remount, call drive.mount(\"/content/drive\", force_remount=True).\n"
          ]
        }
      ]
    },
    {
      "cell_type": "code",
      "execution_count": null,
      "metadata": {
        "id": "pdqx3HI4bvsO"
      },
      "outputs": [],
      "source": [
        "import numpy as np"
      ]
    },
    {
      "cell_type": "code",
      "source": [
        "A=2\n",
        "B=2\n",
        "C=2\n",
        "n=0\n",
        "\n",
        "while A==0 or B==0 or C==0:\n",
        "  n+=1\n",
        "\n",
        "  resultA = 0\n",
        "  ra = np.random.rand()\n",
        "  if ra < 1/2:\n",
        "    resultA = 1\n",
        "  \n",
        "  resultB = 0\n",
        "  rb = np.random.rand()\n",
        "  if rb < 1/2:\n",
        "    resultB = 1\n",
        "\n",
        "  resultC = 0\n",
        "  rc = np.random.rand()\n",
        "  if rc < 1/2:\n",
        "    resultC = 1\n",
        "\n",
        "  if resultA + resultB + resultC == 1:\n",
        "    if resultA == 1: \n",
        "      A +=2\n",
        "      B -=1\n",
        "      C -=1\n",
        "    if resultB == 1:\n",
        "      A -=1\n",
        "      B +=2\n",
        "      C -=1\n",
        "    if resultC == 1:\n",
        "      A -=1\n",
        "      B -=1\n",
        "      C +=2\n",
        "\n",
        "  \n",
        "  if resultA + resultB + resultC == 2:\n",
        "    if resultA == 0: \n",
        "      A +=2\n",
        "      B -=1\n",
        "      C -=1\n",
        "    if resultB == 0:\n",
        "      A -=1\n",
        "      B +=2\n",
        "      C -=1\n",
        "    if resultC == 0:\n",
        "      A -=1\n",
        "      B -=1\n",
        "      C +=2\n"
      ],
      "metadata": {
        "colab": {
          "base_uri": "https://localhost:8080/"
        },
        "id": "RCXkGZYJbyLg",
        "outputId": "f5312c60-2554-40a6-aeed-1c4f44ee09a7"
      },
      "execution_count": null,
      "outputs": [
        {
          "output_type": "stream",
          "name": "stdout",
          "text": [
            "[0, 0, 0]\n"
          ]
        }
      ]
    },
    {
      "cell_type": "code",
      "source": [
        "T=10000\n",
        "trials=[]\n",
        "\n",
        "for k in range(T):\n",
        "  a=2\n",
        "  b=2\n",
        "  c=2\n",
        "  n=0\n",
        "\n",
        "  while a > 0 and b > 0 and c > 0:\n",
        "    n+=1\n",
        "    N=[]\n",
        "    resultA=0\n",
        "    ra = np.random.rand()\n",
        "    if ra<1/2:\n",
        "      resultA+=1\n",
        "    N.append(resultA)\n",
        "\n",
        "    resultB=0\n",
        "    rb = np.random.rand()\n",
        "    if rb<1/2:\n",
        "      resultB+=1\n",
        "    N.append(resultB)\n",
        "\n",
        "    resultC=0\n",
        "    rc = np.random.rand()\n",
        "    if rc<1/2:\n",
        "      resultC+=1 \n",
        "    N.append(resultC)\n",
        "\n",
        "    if sum(N)==2:\n",
        "      if N.index(0)==0 :\n",
        "        a+=2\n",
        "        b-=1\n",
        "        c-=1\n",
        "      if N.index(0)==1:\n",
        "        a-=1\n",
        "        b+=2\n",
        "        c-=1\n",
        "      if N.index(0)==2:\n",
        "        a-=1\n",
        "        b-=1\n",
        "        c+=2\n",
        "    \n",
        "    if sum(N)==1:\n",
        "      if N.index(1)==0:\n",
        "        a+=2\n",
        "        b-=1\n",
        "        c-=1\n",
        "      if N.index(1)==1:\n",
        "        a-=1\n",
        "        b+=2\n",
        "        c-=1\n",
        "      if N.index(1)==2:\n",
        "        a-=1\n",
        "        b-=1\n",
        "        c+=2\n",
        "\n",
        "  trials.append(n)\n",
        "\n",
        "print(sum(trials)/T)"
      ],
      "metadata": {
        "id": "rQknjPyQGQX2",
        "outputId": "d604d02d-cc5a-43fd-9da7-318651448653",
        "colab": {
          "base_uri": "https://localhost:8080/"
        }
      },
      "execution_count": null,
      "outputs": [
        {
          "output_type": "stream",
          "name": "stdout",
          "text": [
            "2.6639\n"
          ]
        }
      ]
    }
  ]
}