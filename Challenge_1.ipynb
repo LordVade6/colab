{
  "nbformat": 4,
  "nbformat_minor": 0,
  "metadata": {
    "colab": {
      "provenance": [],
      "authorship_tag": "ABX9TyOL50D6XKu3l/2VzxAXCnf5",
      "include_colab_link": true
    },
    "kernelspec": {
      "name": "python3",
      "display_name": "Python 3"
    },
    "language_info": {
      "name": "python"
    }
  },
  "cells": [
    {
      "cell_type": "markdown",
      "metadata": {
        "id": "view-in-github",
        "colab_type": "text"
      },
      "source": [
        "<a href=\"https://colab.research.google.com/github/LordVade6/colab/blob/master/Challenge_1.ipynb\" target=\"_parent\"><img src=\"https://colab.research.google.com/assets/colab-badge.svg\" alt=\"Open In Colab\"/></a>"
      ]
    },
    {
      "cell_type": "code",
      "execution_count": null,
      "metadata": {
        "id": "T0EOuU7_Kuk5"
      },
      "outputs": [],
      "source": [
        "import numpy as np"
      ]
    },
    {
      "cell_type": "code",
      "source": [
        "from google.colab import drive\n",
        "drive.mount('/content/drive')"
      ],
      "metadata": {
        "id": "GSepqTJ7mCbU"
      },
      "execution_count": null,
      "outputs": []
    },
    {
      "cell_type": "code",
      "source": [
        "T=10000\n",
        "n=0\n",
        "\n",
        "for k in range(T):\n",
        "  H=0\n",
        "  while H<10:\n",
        "    for j in range(1):\n",
        "      r=np.random.rand()\n",
        "      if r<1/2:\n",
        "        H+=1\n",
        "        n+=1\n",
        "      z=np.random.rand()\n",
        "      if z>1/2:\n",
        "        n+=1\n",
        "\n",
        "    if H==10: \n",
        "     break\n",
        "\n",
        "print(n/T)"
      ],
      "metadata": {
        "colab": {
          "base_uri": "https://localhost:8080/"
        },
        "id": "vhkKjvNRHGwe",
        "outputId": "c35e21e2-82c4-4f65-f7ad-acecb209e5a6"
      },
      "execution_count": null,
      "outputs": [
        {
          "output_type": "stream",
          "name": "stdout",
          "text": [
            "20.0471\n"
          ]
        }
      ]
    },
    {
      "cell_type": "code",
      "source": [
        "T=10000\n",
        "N = []\n",
        "\n",
        "for k in range(T):\n",
        "  n = 0\n",
        "  H = 0\n",
        "  while H<10:\n",
        "    n+=1\n",
        "    r=np.random.rand()\n",
        "    if r<1/2:\n",
        "      H+=1\n",
        "  \n",
        "  N.append(n)\n",
        "\n",
        "print (N[9999])\n",
        "print (np.mean(N))"
      ],
      "metadata": {
        "colab": {
          "base_uri": "https://localhost:8080/"
        },
        "id": "KWOCJ3AIKwGl",
        "outputId": "2dc57f32-c6f2-41f3-ab3e-59b80332d125"
      },
      "execution_count": null,
      "outputs": [
        {
          "output_type": "stream",
          "name": "stdout",
          "text": [
            "20\n",
            "20.0293\n"
          ]
        }
      ]
    },
    {
      "cell_type": "code",
      "source": [],
      "metadata": {
        "id": "BS17so0SHaPx"
      },
      "execution_count": null,
      "outputs": []
    }
  ]
}