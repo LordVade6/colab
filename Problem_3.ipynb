{
  "nbformat": 4,
  "nbformat_minor": 0,
  "metadata": {
    "colab": {
      "provenance": [],
      "authorship_tag": "ABX9TyMQJz7MHBBx9YyaloL1QswD",
      "include_colab_link": true
    },
    "kernelspec": {
      "name": "python3",
      "display_name": "Python 3"
    },
    "language_info": {
      "name": "python"
    }
  },
  "cells": [
    {
      "cell_type": "markdown",
      "metadata": {
        "id": "view-in-github",
        "colab_type": "text"
      },
      "source": [
        "<a href=\"https://colab.research.google.com/github/LordVade6/colab/blob/master/Problem_3.ipynb\" target=\"_parent\"><img src=\"https://colab.research.google.com/assets/colab-badge.svg\" alt=\"Open In Colab\"/></a>"
      ]
    },
    {
      "cell_type": "code",
      "execution_count": null,
      "metadata": {
        "id": "abYvSCQhbpi9"
      },
      "outputs": [],
      "source": [
        "import numpy as np"
      ]
    },
    {
      "cell_type": "code",
      "source": [
        "n=10000\n",
        "count=0\n",
        "d=int(input(\"Please enter the number of dishwashers: \"))\n",
        "for k in range(n):\n",
        "  ron=0\n",
        "  for j in range(5):\n",
        "    r=np.random.rand()\n",
        "    if r<1/d:\n",
        "      ron+=1\n",
        "  if ron>3:\n",
        "    count+=1\n",
        "print(\"probability of Ron breaking 4 or more dishes =\",count/n)"
      ],
      "metadata": {
        "id": "iiC0vaIgeIt9"
      },
      "execution_count": null,
      "outputs": []
    },
    {
      "cell_type": "code",
      "source": [
        "pr = 0.00672\n",
        "ps = count/n\n",
        "print(\"discrepancy of the simulated value from the real probability =\",(pr-ps)/pr*100,\"%\")"
      ],
      "metadata": {
        "id": "e1_AJqJxgdcd"
      },
      "execution_count": null,
      "outputs": []
    }
  ]
}