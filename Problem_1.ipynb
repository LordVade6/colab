{
  "cells": [
    {
      "cell_type": "markdown",
      "metadata": {
        "id": "view-in-github",
        "colab_type": "text"
      },
      "source": [
        "<a href=\"https://colab.research.google.com/github/LordVade6/colab/blob/master/Problem_1.ipynb\" target=\"_parent\"><img src=\"https://colab.research.google.com/assets/colab-badge.svg\" alt=\"Open In Colab\"/></a>"
      ]
    },
    {
      "cell_type": "code",
      "execution_count": null,
      "metadata": {
        "colab": {
          "background_save": true
        },
        "id": "sYsCK6qDr9-S"
      },
      "outputs": [],
      "source": [
        "#import the library numpy\n",
        "import numpy as np"
      ]
    },
    {
      "cell_type": "code",
      "execution_count": null,
      "metadata": {
        "colab": {
          "background_save": true,
          "base_uri": "https://localhost:8080/"
        },
        "id": "bYR1KQyhsLzC",
        "outputId": "eb7999f1-0680-445e-dbb9-8be3369a676e"
      },
      "outputs": [
        {
          "name": "stdout",
          "output_type": "stream",
          "text": [
            "inside = 78600\n",
            "outside = 21400\n",
            "probability of inside = 0.786\n"
          ]
        }
      ],
      "source": [
        "n=100000\n",
        "inside=0\n",
        "outside=0\n",
        "for k in range(n):\n",
        "  x=np.random.rand()\n",
        "  y=np.random.rand()\n",
        "  r=np.sqrt(x**2+y**2)\n",
        "  if r<1:\n",
        "    inside+=1\n",
        "  else:\n",
        "    outside+=1\n",
        "print(\"inside =\",inside)\n",
        "print(\"outside =\",outside)\n",
        "print(\"probability of inside =\",inside/n)"
      ]
    },
    {
      "cell_type": "code",
      "execution_count": null,
      "metadata": {
        "colab": {
          "background_save": true,
          "base_uri": "https://localhost:8080/",
          "height": 187
        },
        "id": "uuvMgXwBMBBo",
        "outputId": "60f20d7b-f9d3-4f08-9b27-842f31b1a03c"
      },
      "outputs": [
        {
          "name": "stdout",
          "output_type": "stream",
          "text": [
            "estimate for pi is 3.144\n"
          ]
        }
      ],
      "source": [
        "p=4*inside/n\n",
        "print(\"estimate for pi is\",p)"
      ]
    }
  ],
  "metadata": {
    "colab": {
      "provenance": [],
      "authorship_tag": "ABX9TyNguCHGMJPqHZEdHgreSh6s",
      "include_colab_link": true
    },
    "kernelspec": {
      "display_name": "Python 3",
      "name": "python3"
    },
    "language_info": {
      "name": "python"
    }
  },
  "nbformat": 4,
  "nbformat_minor": 0
}